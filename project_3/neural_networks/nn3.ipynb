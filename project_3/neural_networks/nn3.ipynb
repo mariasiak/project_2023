{
  "cells": [
    {
      "cell_type": "markdown",
      "metadata": {
        "id": "6mPe0WQcN6yj"
      },
      "source": [
        "# Imports"
      ]
    },
    {
      "cell_type": "code",
      "execution_count": 1,
      "metadata": {
        "colab": {
          "base_uri": "https://localhost:8080/"
        },
        "id": "YEB3Ta13N6At",
        "outputId": "b1dc5ca5-59b1-4dd7-b4cd-ac78e1a4b553"
      },
      "outputs": [
        {
          "output_type": "stream",
          "name": "stdout",
          "text": [
            "Collecting idx2numpy\n",
            "  Downloading idx2numpy-1.2.3.tar.gz (6.8 kB)\n",
            "  Preparing metadata (setup.py) ... \u001b[?25l\u001b[?25hdone\n",
            "Requirement already satisfied: numpy in /usr/local/lib/python3.10/dist-packages (from idx2numpy) (1.23.5)\n",
            "Requirement already satisfied: six in /usr/local/lib/python3.10/dist-packages (from idx2numpy) (1.16.0)\n",
            "Building wheels for collected packages: idx2numpy\n",
            "  Building wheel for idx2numpy (setup.py) ... \u001b[?25l\u001b[?25hdone\n",
            "  Created wheel for idx2numpy: filename=idx2numpy-1.2.3-py3-none-any.whl size=7905 sha256=fe248ac1a908fac892545384f6e37060f91c120a944e6bf3dce8a26c890430c9\n",
            "  Stored in directory: /root/.cache/pip/wheels/e0/f4/e7/643fc5f932ec2ff92997f43f007660feb23f948aa8486f1107\n",
            "Successfully built idx2numpy\n",
            "Installing collected packages: idx2numpy\n",
            "Successfully installed idx2numpy-1.2.3\n"
          ]
        }
      ],
      "source": [
        "!pip install idx2numpy\n",
        "import numpy as np\n",
        "import pandas as pd\n",
        "import matplotlib.pyplot as plt\n",
        "\n",
        "import keras\n",
        "from keras.models import Model\n",
        "from keras.layers import  Input, Conv2D, MaxPooling2D, UpSampling2D, Dense, Flatten, Reshape\n",
        "from keras.optimizers import RMSprop\n",
        "\n",
        "from tensorflow.keras.layers import BatchNormalization\n",
        "\n",
        "from sklearn.model_selection import train_test_split\n",
        "import idx2numpy\n"
      ]
    },
    {
      "cell_type": "markdown",
      "metadata": {
        "id": "ItrcuiGyNMZ9"
      },
      "source": [
        "# Data Read and Check"
      ]
    },
    {
      "cell_type": "code",
      "source": [
        "file_path = 'reduce.config'\n",
        "\n",
        "# extract variables from the file\n",
        "variables = {}\n",
        "\n",
        "file = open(file_path, 'r')\n",
        "\n",
        "for line in file:\n",
        "    key, value = line.strip().split(':')\n",
        "    variables[key.strip()] = value.strip()\n",
        "\n",
        "# access the values for the variables\n",
        "dataset = variables.get('dataset')\n",
        "queryset = variables.get('queryset')\n",
        "output_dataset_file = variables.get('output_dataset_file')\n",
        "output_query_file = variables.get('output_query_file')"
      ],
      "metadata": {
        "id": "zCdaMLM5OcF_"
      },
      "execution_count": 2,
      "outputs": []
    },
    {
      "cell_type": "code",
      "execution_count": 3,
      "metadata": {
        "colab": {
          "base_uri": "https://localhost:8080/",
          "height": 452
        },
        "id": "oQnkp4k9M6iR",
        "outputId": "32efbd10-3337-4213-f4a7-5a1507bdad6a"
      },
      "outputs": [
        {
          "output_type": "display_data",
          "data": {
            "text/plain": [
              "<Figure size 640x480 with 1 Axes>"
            ],
            "image/png": "[encoded data removed]"
          },
          "metadata": {}
        }
      ],
      "source": [
        "# set data and query paths\n",
        "data_path = dataset\n",
        "query_path = queryset\n",
        "\n",
        "# load data and query from paths\n",
        "data = idx2numpy.convert_from_file(data_path)\n",
        "query = idx2numpy.convert_from_file(query_path)\n",
        "\n",
        "# display the reshaped image\n",
        "plt.imshow(data[120], cmap='gray')\n",
        "plt.title(\"Example Image\")\n",
        "plt.show()"
      ]
    },
    {
      "cell_type": "code",
      "execution_count": 4,
      "metadata": {
        "colab": {
          "base_uri": "https://localhost:8080/"
        },
        "id": "_AkBQ4LiUU6Y",
        "outputId": "0176ca0b-d152-42a6-e229-b68da561750f"
      },
      "outputs": [
        {
          "output_type": "stream",
          "name": "stdout",
          "text": [
            "Data set shape:  (60000, 28, 28)\n",
            "Query set shape:  (10000, 28, 28)\n"
          ]
        }
      ],
      "source": [
        "# shape of data set\n",
        "print(\"Data set shape: \",data.shape)\n",
        "\n",
        "# shape of query set\n",
        "print(\"Query set shape: \",query.shape)\n"
      ]
    },
    {
      "cell_type": "markdown",
      "metadata": {
        "id": "jDOTlDPMWfNU"
      },
      "source": [
        "# Data Preproccessing"
      ]
    },
    {
      "cell_type": "markdown",
      "metadata": {
        "id": "hbn7dNvMYGsl"
      },
      "source": [
        "Convert from 28x28 to 28x28x1"
      ]
    },
    {
      "cell_type": "code",
      "execution_count": 5,
      "metadata": {
        "id": "jgY-jhe7VWPq"
      },
      "outputs": [],
      "source": [
        "# underscored data and query hold the postproccessed data, and query sets\n",
        "_data = data.reshape(-1, 28,28, 1)\n",
        "_query = query.reshape(-1, 28,28, 1)"
      ]
    },
    {
      "cell_type": "code",
      "execution_count": 6,
      "metadata": {
        "colab": {
          "base_uri": "https://localhost:8080/"
        },
        "id": "h_vTWWScWp_L",
        "outputId": "fa05d951-d28a-4646-9089-a173c8a1b72b"
      },
      "outputs": [
        {
          "output_type": "stream",
          "name": "stdout",
          "text": [
            "Data set shape:  (60000, 28, 28, 1)\n",
            "Query set shape:  (10000, 28, 28, 1)\n"
          ]
        }
      ],
      "source": [
        "# shape of data set\n",
        "print(\"Data set shape: \",_data.shape)\n",
        "\n",
        "# shape of query set\n",
        "print(\"Query set shape: \",_query.shape)"
      ]
    },
    {
      "cell_type": "markdown",
      "metadata": {
        "id": "llv9zgF-YRR7"
      },
      "source": [
        "Change data type to float32"
      ]
    },
    {
      "cell_type": "code",
      "execution_count": 7,
      "metadata": {
        "colab": {
          "base_uri": "https://localhost:8080/"
        },
        "id": "7W0NNawXXG5u",
        "outputId": "9fdd057f-ad83-4c16-ce21-d95c58162dd8"
      },
      "outputs": [
        {
          "output_type": "execute_result",
          "data": {
            "text/plain": [
              "(dtype('float32'), dtype('float32'))"
            ]
          },
          "metadata": {},
          "execution_count": 7
        }
      ],
      "source": [
        "# change the data type of _data and _query to float32\n",
        "_data = _data.astype('float32')\n",
        "_query = _query.astype('float32')\n",
        "\n",
        "_data.dtype, _query.dtype"
      ]
    },
    {
      "cell_type": "markdown",
      "metadata": {
        "id": "asTE30L7YUR1"
      },
      "source": [
        "Rescale values from [0, 255] to [0.0, 1.0]"
      ]
    },
    {
      "cell_type": "code",
      "execution_count": 8,
      "metadata": {
        "colab": {
          "base_uri": "https://localhost:8080/"
        },
        "id": "l-qutyt5XRUJ",
        "outputId": "4236d1b1-d80d-4379-97a2-8a930b4967b1"
      },
      "outputs": [
        {
          "output_type": "execute_result",
          "data": {
            "text/plain": [
              "(255.0, 255.0)"
            ]
          },
          "metadata": {},
          "execution_count": 8
        }
      ],
      "source": [
        "np.max(_data), np.max(_query)"
      ]
    },
    {
      "cell_type": "code",
      "execution_count": 9,
      "metadata": {
        "id": "1hKJ7nOgYvyM"
      },
      "outputs": [],
      "source": [
        "_data = _data / np.max(_data)\n",
        "_query = _query / np.max(_query)"
      ]
    },
    {
      "cell_type": "code",
      "execution_count": 10,
      "metadata": {
        "colab": {
          "base_uri": "https://localhost:8080/"
        },
        "id": "DLoi5R8cY14G",
        "outputId": "65170df2-5039-4f24-eb05-88ca7ca05915"
      },
      "outputs": [
        {
          "output_type": "execute_result",
          "data": {
            "text/plain": [
              "(1.0, 1.0)"
            ]
          },
          "metadata": {},
          "execution_count": 10
        }
      ],
      "source": [
        "np.max(_data), np.max(_query)"
      ]
    },
    {
      "cell_type": "markdown",
      "metadata": {
        "id": "PUmtkPCfZm8f"
      },
      "source": [
        "Split the data into train, valid, ground"
      ]
    },
    {
      "cell_type": "code",
      "execution_count": 11,
      "metadata": {
        "id": "6NiJzo56Y3sc"
      },
      "outputs": [],
      "source": [
        "train_X,valid_X,train_ground,valid_ground = train_test_split(_data,\n",
        "                                                             _data,\n",
        "                                                             test_size=0.181,\n",
        "                                                             random_state=333)"
      ]
    },
    {
      "cell_type": "markdown",
      "metadata": {
        "id": "agxuxhNCDl9r"
      },
      "source": [
        "# Neural Network"
      ]
    },
    {
      "cell_type": "code",
      "execution_count": 12,
      "metadata": {
        "colab": {
          "base_uri": "https://localhost:8080/"
        },
        "id": "nE1qrZAA0Ccv",
        "outputId": "ea0ff479-4f61-4d4f-c1ec-1cdd320b5d83"
      },
      "outputs": [
        {
          "output_type": "stream",
          "name": "stdout",
          "text": [
            "Model: \"model\"\n",
            "_________________________________________________________________\n",
            " Layer (type)                Output Shape              Param #   \n",
            "=================================================================\n",
            " input_1 (InputLayer)        [(None, 28, 28, 1)]       0         \n",
            "                                                                 \n",
            " conv2d (Conv2D)             (None, 28, 28, 64)        640       \n",
            "                                                                 \n",
            " batch_normalization (Batch  (None, 28, 28, 64)        256       \n",
            " Normalization)                                                  \n",
            "                                                                 \n",
            " max_pooling2d (MaxPooling2  (None, 14, 14, 64)        0         \n",
            " D)                                                              \n",
            "                                                                 \n",
            " conv2d_1 (Conv2D)           (None, 14, 14, 32)        18464     \n",
            "                                                                 \n",
            " batch_normalization_1 (Bat  (None, 14, 14, 32)        128       \n",
            " chNormalization)                                                \n",
            "                                                                 \n",
            " max_pooling2d_1 (MaxPoolin  (None, 7, 7, 32)          0         \n",
            " g2D)                                                            \n",
            "                                                                 \n",
            " conv2d_2 (Conv2D)           (None, 7, 7, 16)          4624      \n",
            "                                                                 \n",
            " batch_normalization_2 (Bat  (None, 7, 7, 16)          64        \n",
            " chNormalization)                                                \n",
            "                                                                 \n",
            " max_pooling2d_2 (MaxPoolin  (None, 4, 4, 16)          0         \n",
            " g2D)                                                            \n",
            "                                                                 \n",
            " flatten (Flatten)           (None, 256)               0         \n",
            "                                                                 \n",
            " dense (Dense)               (None, 20)                5140      \n",
            "                                                                 \n",
            " batch_normalization_3 (Bat  (None, 20)                80        \n",
            " chNormalization)                                                \n",
            "                                                                 \n",
            " dense_1 (Dense)             (None, 256)               5376      \n",
            "                                                                 \n",
            " reshape (Reshape)           (None, 4, 4, 16)          0         \n",
            "                                                                 \n",
            " conv2d_3 (Conv2D)           (None, 4, 4, 16)          2320      \n",
            "                                                                 \n",
            " up_sampling2d (UpSampling2  (None, 8, 8, 16)          0         \n",
            " D)                                                              \n",
            "                                                                 \n",
            " conv2d_4 (Conv2D)           (None, 8, 8, 32)          4640      \n",
            "                                                                 \n",
            " up_sampling2d_1 (UpSamplin  (None, 16, 16, 32)        0         \n",
            " g2D)                                                            \n",
            "                                                                 \n",
            " conv2d_5 (Conv2D)           (None, 14, 14, 64)        18496     \n",
            "                                                                 \n",
            " up_sampling2d_2 (UpSamplin  (None, 28, 28, 64)        0         \n",
            " g2D)                                                            \n",
            "                                                                 \n",
            " conv2d_6 (Conv2D)           (None, 28, 28, 1)         577       \n",
            "                                                                 \n",
            "=================================================================\n",
            "Total params: 60805 (237.52 KB)\n",
            "Trainable params: 60541 (236.49 KB)\n",
            "Non-trainable params: 264 (1.03 KB)\n",
            "_________________________________________________________________\n"
          ]
        }
      ],
      "source": [
        "# hyperparameters\n",
        "batch_size = 128\n",
        "epochs = 11\n",
        "\n",
        "# input layer\n",
        "inChannel = 1\n",
        "x, y = 28, 28\n",
        "input_img = Input(shape=(x, y, inChannel))\n",
        "\n",
        "conv_shape = (3, 3)\n",
        "filters = (64, 32, 16)\n",
        "\n",
        "x = Conv2D(filters[0], conv_shape, activation='relu', padding='same')(input_img)\n",
        "x = BatchNormalization()(x)\n",
        "x = MaxPooling2D((2, 2), padding='same')(x)\n",
        "\n",
        "x = Conv2D(filters[1], conv_shape, activation='relu', padding='same')(x)\n",
        "x = BatchNormalization()(x)\n",
        "x = MaxPooling2D((2, 2), padding='same')(x)\n",
        "\n",
        "x = Conv2D(filters[2], conv_shape, activation='relu', padding='same')(x)\n",
        "x = BatchNormalization()(x)\n",
        "x = MaxPooling2D((2, 2), padding='same')(x)\n",
        "\n",
        "# flatten\n",
        "x = Flatten()(x)\n",
        "\n",
        "# latent space\n",
        "x = Dense(20, activation='sigmoid')(x)\n",
        "x = BatchNormalization()(x)\n",
        "\n",
        "# decoder\n",
        "x = Dense(4 * 4 * filters[2], activation='relu')(x)\n",
        "x = Reshape((4, 4, filters[2]))(x)\n",
        "\n",
        "x = Conv2D(filters[2], conv_shape, activation='relu', padding='same')(x)\n",
        "x = UpSampling2D((2, 2))(x)\n",
        "\n",
        "x = Conv2D(filters[1], conv_shape, activation='relu', padding='same')(x)\n",
        "x = UpSampling2D((2, 2))(x)\n",
        "\n",
        "x = Conv2D(filters[0], conv_shape, activation='relu')(x)\n",
        "x = UpSampling2D((2, 2))(x)\n",
        "\n",
        "# output layer\n",
        "decoded = Conv2D(1, conv_shape, activation='sigmoid', padding='same')(x)\n",
        "\n",
        "# autoencoder model\n",
        "autoencoder = Model(input_img, decoded)\n",
        "autoencoder.compile(loss='mean_squared_error', optimizer=RMSprop())\n",
        "\n",
        "autoencoder.summary()\n",
        "\n"
      ]
    },
    {
      "cell_type": "code",
      "execution_count": 13,
      "metadata": {
        "id": "n3CD2tP3IvSC",
        "colab": {
          "base_uri": "https://localhost:8080/"
        },
        "outputId": "fa5ac06a-11ab-476e-e714-4aa9f0ac1d07"
      },
      "outputs": [
        {
          "output_type": "stream",
          "name": "stdout",
          "text": [
            "Epoch 1/11\n",
            "384/384 [==============================] - 198s 507ms/step - loss: 0.0488 - val_loss: 0.0561\n",
            "Epoch 2/11\n",
            "384/384 [==============================] - 194s 504ms/step - loss: 0.0284 - val_loss: 0.0232\n",
            "Epoch 3/11\n",
            "384/384 [==============================] - 196s 510ms/step - loss: 0.0227 - val_loss: 0.0192\n",
            "Epoch 4/11\n",
            "384/384 [==============================] - 195s 507ms/step - loss: 0.0195 - val_loss: 0.0197\n",
            "Epoch 5/11\n",
            "384/384 [==============================] - 193s 503ms/step - loss: 0.0177 - val_loss: 0.0157\n",
            "Epoch 6/11\n",
            "384/384 [==============================] - 193s 504ms/step - loss: 0.0164 - val_loss: 0.0158\n",
            "Epoch 7/11\n",
            "384/384 [==============================] - 194s 505ms/step - loss: 0.0155 - val_loss: 0.0158\n",
            "Epoch 8/11\n",
            "384/384 [==============================] - 198s 515ms/step - loss: 0.0147 - val_loss: 0.0145\n",
            "Epoch 9/11\n",
            "384/384 [==============================] - 194s 504ms/step - loss: 0.0141 - val_loss: 0.0131\n",
            "Epoch 10/11\n",
            "384/384 [==============================] - 194s 505ms/step - loss: 0.0136 - val_loss: 0.0141\n",
            "Epoch 11/11\n",
            "384/384 [==============================] - 193s 504ms/step - loss: 0.0132 - val_loss: 0.0120\n"
          ]
        }
      ],
      "source": [
        "autoencoder_train = autoencoder.fit(train_X, train_ground, batch_size=batch_size,epochs=epochs,verbose=1,validation_data=(valid_X, valid_ground))\n"
      ]
    },
    {
      "cell_type": "code",
      "execution_count": 14,
      "metadata": {
        "id": "RkisnQptIvSE",
        "colab": {
          "base_uri": "https://localhost:8080/",
          "height": 452
        },
        "outputId": "7c837c5f-1f41-4a36-c180-2a2f1932f065"
      },
      "outputs": [
        {
          "output_type": "display_data",
          "data": {
            "text/plain": [
              "<Figure size 640x480 with 1 Axes>"
            ],
            "image/png": "[encoded data removed]"
          },
          "metadata": {}
        }
      ],
      "source": [
        "loss = autoencoder_train.history['loss']\n",
        "val_loss = autoencoder_train.history['val_loss']\n",
        "epochs = range(epochs)\n",
        "plt.figure()\n",
        "plt.plot(epochs, loss, 'bo', label='Training loss')\n",
        "plt.plot(epochs, val_loss, 'b', label='Validation loss')\n",
        "plt.title('Training and validation loss')\n",
        "plt.legend()\n",
        "plt.show()"
      ]
    },
    {
      "cell_type": "code",
      "execution_count": 15,
      "metadata": {
        "id": "wodSJJIOIvSE",
        "colab": {
          "base_uri": "https://localhost:8080/"
        },
        "outputId": "6489bc5b-5abd-4819-ba17-90f09a46e710"
      },
      "outputs": [
        {
          "output_type": "stream",
          "name": "stdout",
          "text": [
            "313/313 [==============================] - 9s 28ms/step\n"
          ]
        }
      ],
      "source": [
        "pred = autoencoder.predict(_query)\n",
        "\n"
      ]
    },
    {
      "cell_type": "code",
      "execution_count": 16,
      "metadata": {
        "id": "e_dfORLPIvSF",
        "colab": {
          "base_uri": "https://localhost:8080/"
        },
        "outputId": "4e224166-3a53-4689-ef34-8d12119e149d"
      },
      "outputs": [
        {
          "output_type": "execute_result",
          "data": {
            "text/plain": [
              "(10000, 28, 28, 1)"
            ]
          },
          "metadata": {},
          "execution_count": 16
        }
      ],
      "source": [
        "pred.shape\n",
        "\n"
      ]
    },
    {
      "cell_type": "code",
      "execution_count": 17,
      "metadata": {
        "id": "MYHwoyVTIvSG",
        "colab": {
          "base_uri": "https://localhost:8080/",
          "height": 231
        },
        "outputId": "b1d3d607-e83d-4769-ab44-d67aab212444"
      },
      "outputs": [
        {
          "output_type": "stream",
          "name": "stdout",
          "text": [
            "Test Images\n"
          ]
        },
        {
          "output_type": "display_data",
          "data": {
            "text/plain": [
              "<Figure size 2000x400 with 10 Axes>"
            ],
            "image/png": "[encoded data removed]"
          },
          "metadata": {}
        },
        {
          "output_type": "stream",
          "name": "stdout",
          "text": [
            "Reconstruction of Test Images\n"
          ]
        },
        {
          "output_type": "display_data",
          "data": {
            "text/plain": [
              "<Figure size 2000x400 with 10 Axes>"
            ],
            "image/png": "[encoded data removed]"
          },
          "metadata": {}
        }
      ],
      "source": [
        "plt.figure(figsize=(20, 4))\n",
        "print(\"Test Images\")\n",
        "for i in range(10):\n",
        "    plt.subplot(2, 10, i+1)\n",
        "    plt.imshow(_query[i, ..., 0], cmap='gray')\n",
        "plt.show()\n",
        "plt.figure(figsize=(20, 4))\n",
        "print(\"Reconstruction of Test Images\")\n",
        "for i in range(10):\n",
        "    plt.subplot(2, 10, i+1)\n",
        "    plt.imshow(pred[i, ..., 0], cmap='gray')\n",
        "plt.show()"
      ]
    },
    {
      "cell_type": "markdown",
      "source": [
        "# Create Output In Latent Space"
      ],
      "metadata": {
        "id": "BYLgsxC3NH6z"
      }
    },
    {
      "cell_type": "code",
      "execution_count": 19,
      "metadata": {
        "id": "es2xhUU-IvSH"
      },
      "outputs": [],
      "source": [
        "encoder_model = Model(inputs=autoencoder.input, outputs=autoencoder.get_layer('dense').output)\n"
      ]
    },
    {
      "cell_type": "code",
      "execution_count": 20,
      "metadata": {
        "id": "Kvzz1FVpIvSI",
        "colab": {
          "base_uri": "https://localhost:8080/"
        },
        "outputId": "12735c89-2135-46a6-df0e-9296c510ae57"
      },
      "outputs": [
        {
          "output_type": "stream",
          "name": "stdout",
          "text": [
            "313/313 [==============================] - 5s 14ms/step\n"
          ]
        }
      ],
      "source": [
        "query_bottleneck_output = encoder_model.predict(_query)"
      ]
    },
    {
      "cell_type": "code",
      "execution_count": 21,
      "metadata": {
        "id": "L9q_h3AyIvSI",
        "colab": {
          "base_uri": "https://localhost:8080/"
        },
        "outputId": "a467e663-4757-425e-961a-cbd88095745b"
      },
      "outputs": [
        {
          "output_type": "execute_result",
          "data": {
            "text/plain": [
              "(10000, 20)"
            ]
          },
          "metadata": {},
          "execution_count": 21
        }
      ],
      "source": [
        "query_bottleneck_output.shape"
      ]
    },
    {
      "cell_type": "code",
      "execution_count": 22,
      "metadata": {
        "id": "fMHQ8W63IvSJ",
        "colab": {
          "base_uri": "https://localhost:8080/"
        },
        "outputId": "14c92156-a67b-4f67-b508-9f1ee5455319"
      },
      "outputs": [
        {
          "output_type": "execute_result",
          "data": {
            "text/plain": [
              "array([ 75, 151,  58, 116, 117, 173, 121, 106, 141, 116,  92, 111,  71,\n",
              "       138, 210, 131, 112,  66,  91, 113])"
            ]
          },
          "metadata": {},
          "execution_count": 22
        }
      ],
      "source": [
        "query_bottleneck_output*=255\n",
        "query_bottleneck_output=query_bottleneck_output.astype(int)\n",
        "query_bottleneck_output[0]"
      ]
    },
    {
      "cell_type": "code",
      "execution_count": 23,
      "metadata": {
        "id": "seH8OFppJpr0",
        "colab": {
          "base_uri": "https://localhost:8080/"
        },
        "outputId": "8ecd1dea-1908-4eb8-c278-624b88ef8cc5"
      },
      "outputs": [
        {
          "output_type": "stream",
          "name": "stdout",
          "text": [
            "1875/1875 [==============================] - 32s 17ms/step\n"
          ]
        }
      ],
      "source": [
        "data_bottleneck_output = encoder_model.predict(_data)"
      ]
    },
    {
      "cell_type": "code",
      "execution_count": 24,
      "metadata": {
        "id": "bV1A1fElJpr1",
        "colab": {
          "base_uri": "https://localhost:8080/"
        },
        "outputId": "3f836dd1-fa20-4844-b1a0-404d3e252ef7"
      },
      "outputs": [
        {
          "output_type": "execute_result",
          "data": {
            "text/plain": [
              "(60000, 20)"
            ]
          },
          "metadata": {},
          "execution_count": 24
        }
      ],
      "source": [
        "data_bottleneck_output.shape"
      ]
    },
    {
      "cell_type": "code",
      "execution_count": 25,
      "metadata": {
        "id": "MMfIIz8mJpr1",
        "colab": {
          "base_uri": "https://localhost:8080/"
        },
        "outputId": "fec8c1f5-74ef-40ac-f66e-0c7cd4b8457c"
      },
      "outputs": [
        {
          "output_type": "execute_result",
          "data": {
            "text/plain": [
              "array([149, 185, 152, 109, 132, 198, 173, 141,  77, 115, 167, 205,  92,\n",
              "       117, 198, 104, 108,  69, 112, 108])"
            ]
          },
          "metadata": {},
          "execution_count": 25
        }
      ],
      "source": [
        "data_bottleneck_output*=255\n",
        "data_bottleneck_output=data_bottleneck_output.astype(int)\n",
        "data_bottleneck_output[0]"
      ]
    },
    {
      "cell_type": "code",
      "execution_count": 26,
      "metadata": {
        "id": "xtMSfuifJ02Z",
        "colab": {
          "base_uri": "https://localhost:8080/"
        },
        "outputId": "de76eaa4-34a2-481b-8b7f-892e9e4b5c69"
      },
      "outputs": [
        {
          "output_type": "execute_result",
          "data": {
            "text/plain": [
              "array([149, 185, 152, 109, 132, 198, 173, 141,  77, 115, 167, 205,  92,\n",
              "       117, 198, 104, 108,  69, 112, 108])"
            ]
          },
          "metadata": {},
          "execution_count": 26
        }
      ],
      "source": [
        "data_bottleneck_output[0]"
      ]
    },
    {
      "cell_type": "code",
      "execution_count": 27,
      "metadata": {
        "id": "8bEiU6gOKtvv"
      },
      "outputs": [],
      "source": [
        "np.savetxt(output_dataset_file, data_bottleneck_output, delimiter=',', fmt='%d')\n",
        "np.savetxt(output_query_file, query_bottleneck_output, delimiter=',', fmt='%d')"
      ]
    }
  ],
  "metadata": {
    "colab": {
      "provenance": []
    },
    "kernelspec": {
      "display_name": "Python 3",
      "name": "python3"
    },
    "language_info": {
      "name": "python"
    }
  },
  "nbformat": 4,
  "nbformat_minor": 0
}