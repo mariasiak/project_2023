{
  "cells": [
    {
      "cell_type": "markdown",
      "metadata": {
        "id": "6mPe0WQcN6yj"
      },
      "source": [
        "# Imports"
      ]
    },
    {
      "cell_type": "code",
      "execution_count": 1,
      "metadata": {
        "colab": {
          "base_uri": "https://localhost:8080/"
        },
        "id": "YEB3Ta13N6At",
        "outputId": "21874720-c0c2-43f8-fc86-15b933f0dee1"
      },
      "outputs": [
        {
          "output_type": "stream",
          "name": "stdout",
          "text": [
            "Collecting idx2numpy\n",
            "  Downloading idx2numpy-1.2.3.tar.gz (6.8 kB)\n",
            "  Preparing metadata (setup.py) ... \u001b[?25l\u001b[?25hdone\n",
            "Requirement already satisfied: numpy in /usr/local/lib/python3.10/dist-packages (from idx2numpy) (1.23.5)\n",
            "Requirement already satisfied: six in /usr/local/lib/python3.10/dist-packages (from idx2numpy) (1.16.0)\n",
            "Building wheels for collected packages: idx2numpy\n",
            "  Building wheel for idx2numpy (setup.py) ... \u001b[?25l\u001b[?25hdone\n",
            "  Created wheel for idx2numpy: filename=idx2numpy-1.2.3-py3-none-any.whl size=7905 sha256=383cfb58d153d1b97357a38e985adc6abe09b856f428cdb2fbb4320c6a6ff580\n",
            "  Stored in directory: /root/.cache/pip/wheels/e0/f4/e7/643fc5f932ec2ff92997f43f007660feb23f948aa8486f1107\n",
            "Successfully built idx2numpy\n",
            "Installing collected packages: idx2numpy\n",
            "Successfully installed idx2numpy-1.2.3\n"
          ]
        }
      ],
      "source": [
        "!pip install idx2numpy\n",
        "import numpy as np\n",
        "import pandas as pd\n",
        "import matplotlib.pyplot as plt\n",
        "\n",
        "import keras\n",
        "from keras.models import Model\n",
        "from keras.layers import Input, Conv2D, MaxPooling2D, UpSampling2D, Dense, Flatten, Reshape\n",
        "from keras.optimizers import RMSprop\n",
        "\n",
        "from tensorflow.keras.layers import BatchNormalization\n",
        "\n",
        "from sklearn.model_selection import train_test_split\n",
        "import idx2numpy"
      ]
    },
    {
      "cell_type": "markdown",
      "metadata": {
        "id": "ItrcuiGyNMZ9"
      },
      "source": [
        "# Data Read and Check"
      ]
    },
    {
      "cell_type": "code",
      "source": [
        "file_path = 'reduce.config'\n",
        "\n",
        "# extract variables from the file\n",
        "variables = {}\n",
        "\n",
        "file = open(file_path, 'r')\n",
        "\n",
        "for line in file:\n",
        "    key, value = line.strip().split(':')\n",
        "    variables[key.strip()] = value.strip()\n",
        "\n",
        "# access the values for the variables\n",
        "dataset = variables.get('dataset')\n",
        "queryset = variables.get('queryset')\n",
        "output_dataset_file = variables.get('output_dataset_file')\n",
        "output_query_file = variables.get('output_query_file')"
      ],
      "metadata": {
        "id": "zCdaMLM5OcF_"
      },
      "execution_count": 2,
      "outputs": []
    },
    {
      "cell_type": "code",
      "execution_count": 3,
      "metadata": {
        "colab": {
          "base_uri": "https://localhost:8080/",
          "height": 452
        },
        "id": "oQnkp4k9M6iR",
        "outputId": "06fefeb3-2961-471e-8f08-8e6247a7f210"
      },
      "outputs": [
        {
          "output_type": "display_data",
          "data": {
            "text/plain": [
              "<Figure size 640x480 with 1 Axes>"
            ],
            "image/png": "[encoded data removed]"
          },
          "metadata": {}
        }
      ],
      "source": [
        "# set data and query paths\n",
        "data_path = dataset\n",
        "query_path = queryset\n",
        "\n",
        "# load data and query from paths\n",
        "data = idx2numpy.convert_from_file(data_path)\n",
        "query = idx2numpy.convert_from_file(query_path)\n",
        "\n",
        "# display the reshaped image\n",
        "plt.imshow(data[120], cmap='gray')\n",
        "plt.title(\"Example Image\")\n",
        "plt.show()"
      ]
    },
    {
      "cell_type": "code",
      "execution_count": 4,
      "metadata": {
        "colab": {
          "base_uri": "https://localhost:8080/"
        },
        "id": "_AkBQ4LiUU6Y",
        "outputId": "64cd1362-ebd1-470f-e8d0-323fd9193ee8"
      },
      "outputs": [
        {
          "output_type": "stream",
          "name": "stdout",
          "text": [
            "Data set shape:  (60000, 28, 28)\n",
            "Query set shape:  (10000, 28, 28)\n"
          ]
        }
      ],
      "source": [
        "# shape of data set\n",
        "print(\"Data set shape: \",data.shape)\n",
        "\n",
        "# shape of query set\n",
        "print(\"Query set shape: \",query.shape)\n"
      ]
    },
    {
      "cell_type": "markdown",
      "metadata": {
        "id": "jDOTlDPMWfNU"
      },
      "source": [
        "# Data Preproccessing"
      ]
    },
    {
      "cell_type": "markdown",
      "metadata": {
        "id": "hbn7dNvMYGsl"
      },
      "source": [
        "Convert from 28x28 to 28x28x1"
      ]
    },
    {
      "cell_type": "code",
      "execution_count": 5,
      "metadata": {
        "id": "jgY-jhe7VWPq"
      },
      "outputs": [],
      "source": [
        "# underscored data and query hold the postproccessed data, and query sets\n",
        "_data = data.reshape(-1, 28,28, 1)\n",
        "_query = query.reshape(-1, 28,28, 1)"
      ]
    },
    {
      "cell_type": "code",
      "execution_count": 6,
      "metadata": {
        "colab": {
          "base_uri": "https://localhost:8080/"
        },
        "id": "h_vTWWScWp_L",
        "outputId": "fa863b2f-0e95-4135-8389-8dbccd020c4f"
      },
      "outputs": [
        {
          "output_type": "stream",
          "name": "stdout",
          "text": [
            "Data set shape:  (60000, 28, 28, 1)\n",
            "Query set shape:  (10000, 28, 28, 1)\n"
          ]
        }
      ],
      "source": [
        "# shape of data set\n",
        "print(\"Data set shape: \",_data.shape)\n",
        "\n",
        "# shape of query set\n",
        "print(\"Query set shape: \",_query.shape)"
      ]
    },
    {
      "cell_type": "markdown",
      "metadata": {
        "id": "llv9zgF-YRR7"
      },
      "source": [
        "Change data type to float32"
      ]
    },
    {
      "cell_type": "code",
      "execution_count": 7,
      "metadata": {
        "colab": {
          "base_uri": "https://localhost:8080/"
        },
        "id": "7W0NNawXXG5u",
        "outputId": "b127103a-3d16-4b67-c51f-2ea7a319a458"
      },
      "outputs": [
        {
          "output_type": "execute_result",
          "data": {
            "text/plain": [
              "(dtype('float32'), dtype('float32'))"
            ]
          },
          "metadata": {},
          "execution_count": 7
        }
      ],
      "source": [
        "# change the data type of _data and _query to float32\n",
        "_data = _data.astype('float32')\n",
        "_query = _query.astype('float32')\n",
        "\n",
        "_data.dtype, _query.dtype"
      ]
    },
    {
      "cell_type": "markdown",
      "metadata": {
        "id": "asTE30L7YUR1"
      },
      "source": [
        "Rescale values from [0, 255] to [0.0, 1.0]"
      ]
    },
    {
      "cell_type": "code",
      "execution_count": 8,
      "metadata": {
        "colab": {
          "base_uri": "https://localhost:8080/"
        },
        "id": "l-qutyt5XRUJ",
        "outputId": "72f2ba03-2973-4b1c-8013-8390b4df890c"
      },
      "outputs": [
        {
          "output_type": "execute_result",
          "data": {
            "text/plain": [
              "(255.0, 255.0)"
            ]
          },
          "metadata": {},
          "execution_count": 8
        }
      ],
      "source": [
        "np.max(_data), np.max(_query)"
      ]
    },
    {
      "cell_type": "code",
      "execution_count": 9,
      "metadata": {
        "id": "1hKJ7nOgYvyM"
      },
      "outputs": [],
      "source": [
        "_data = _data / np.max(_data)\n",
        "_query = _query / np.max(_query)"
      ]
    },
    {
      "cell_type": "code",
      "execution_count": 10,
      "metadata": {
        "colab": {
          "base_uri": "https://localhost:8080/"
        },
        "id": "DLoi5R8cY14G",
        "outputId": "5b8ab0a0-5aaf-43fe-8091-c9cbe8efc624"
      },
      "outputs": [
        {
          "output_type": "execute_result",
          "data": {
            "text/plain": [
              "(1.0, 1.0)"
            ]
          },
          "metadata": {},
          "execution_count": 10
        }
      ],
      "source": [
        "np.max(_data), np.max(_query)"
      ]
    },
    {
      "cell_type": "markdown",
      "metadata": {
        "id": "PUmtkPCfZm8f"
      },
      "source": [
        "Split the data into train, valid, ground"
      ]
    },
    {
      "cell_type": "code",
      "execution_count": 11,
      "metadata": {
        "id": "6NiJzo56Y3sc"
      },
      "outputs": [],
      "source": [
        "train_X,valid_X,train_ground,valid_ground = train_test_split(_data,\n",
        "                                                             _data,\n",
        "                                                             test_size=0.181,\n",
        "                                                             random_state=333)"
      ]
    },
    {
      "cell_type": "markdown",
      "metadata": {
        "id": "agxuxhNCDl9r"
      },
      "source": [
        "# Neural Network"
      ]
    },
    {
      "cell_type": "code",
      "execution_count": 12,
      "metadata": {
        "colab": {
          "base_uri": "https://localhost:8080/"
        },
        "id": "nE1qrZAA0Ccv",
        "outputId": "99390a7a-d5d5-4816-a840-3bc09b16ed58"
      },
      "outputs": [
        {
          "output_type": "stream",
          "name": "stdout",
          "text": [
            "Model: \"model\"\n",
            "_________________________________________________________________\n",
            " Layer (type)                Output Shape              Param #   \n",
            "=================================================================\n",
            " input_1 (InputLayer)        [(None, 28, 28, 1)]       0         \n",
            "                                                                 \n",
            " conv2d (Conv2D)             (None, 28, 28, 64)        640       \n",
            "                                                                 \n",
            " batch_normalization (Batch  (None, 28, 28, 64)        256       \n",
            " Normalization)                                                  \n",
            "                                                                 \n",
            " max_pooling2d (MaxPooling2  (None, 14, 14, 64)        0         \n",
            " D)                                                              \n",
            "                                                                 \n",
            " conv2d_1 (Conv2D)           (None, 14, 14, 32)        18464     \n",
            "                                                                 \n",
            " batch_normalization_1 (Bat  (None, 14, 14, 32)        128       \n",
            " chNormalization)                                                \n",
            "                                                                 \n",
            " max_pooling2d_1 (MaxPoolin  (None, 7, 7, 32)          0         \n",
            " g2D)                                                            \n",
            "                                                                 \n",
            " conv2d_2 (Conv2D)           (None, 7, 7, 16)          4624      \n",
            "                                                                 \n",
            " batch_normalization_2 (Bat  (None, 7, 7, 16)          64        \n",
            " chNormalization)                                                \n",
            "                                                                 \n",
            " max_pooling2d_2 (MaxPoolin  (None, 4, 4, 16)          0         \n",
            " g2D)                                                            \n",
            "                                                                 \n",
            " flatten (Flatten)           (None, 256)               0         \n",
            "                                                                 \n",
            " dense (Dense)               (None, 10)                2570      \n",
            "                                                                 \n",
            " batch_normalization_3 (Bat  (None, 10)                40        \n",
            " chNormalization)                                                \n",
            "                                                                 \n",
            " dense_1 (Dense)             (None, 256)               2816      \n",
            "                                                                 \n",
            " reshape (Reshape)           (None, 4, 4, 16)          0         \n",
            "                                                                 \n",
            " conv2d_3 (Conv2D)           (None, 4, 4, 16)          2320      \n",
            "                                                                 \n",
            " up_sampling2d (UpSampling2  (None, 8, 8, 16)          0         \n",
            " D)                                                              \n",
            "                                                                 \n",
            " conv2d_4 (Conv2D)           (None, 8, 8, 32)          4640      \n",
            "                                                                 \n",
            " up_sampling2d_1 (UpSamplin  (None, 16, 16, 32)        0         \n",
            " g2D)                                                            \n",
            "                                                                 \n",
            " conv2d_5 (Conv2D)           (None, 14, 14, 64)        18496     \n",
            "                                                                 \n",
            " up_sampling2d_2 (UpSamplin  (None, 28, 28, 64)        0         \n",
            " g2D)                                                            \n",
            "                                                                 \n",
            " conv2d_6 (Conv2D)           (None, 28, 28, 1)         577       \n",
            "                                                                 \n",
            "=================================================================\n",
            "Total params: 55635 (217.32 KB)\n",
            "Trainable params: 55391 (216.37 KB)\n",
            "Non-trainable params: 244 (976.00 Byte)\n",
            "_________________________________________________________________\n"
          ]
        }
      ],
      "source": [
        "\n",
        "# hyperparameters\n",
        "batch_size = 128\n",
        "epochs = 12\n",
        "\n",
        "# input layer\n",
        "inChannel = 1\n",
        "x, y = 28, 28\n",
        "input_img = Input(shape=(x, y, inChannel))\n",
        "\n",
        "conv_shape = (3, 3)\n",
        "filters = (64, 32, 16)\n",
        "\n",
        "x = Conv2D(filters[0], conv_shape, activation='relu', padding='same')(input_img)\n",
        "x = BatchNormalization()(x)\n",
        "x = MaxPooling2D((2, 2), padding='same')(x)\n",
        "\n",
        "x = Conv2D(filters[1], conv_shape, activation='relu', padding='same')(x)\n",
        "x = BatchNormalization()(x)\n",
        "x = MaxPooling2D((2, 2), padding='same')(x)\n",
        "\n",
        "x = Conv2D(filters[2], conv_shape, activation='relu', padding='same')(x)\n",
        "x = BatchNormalization()(x)\n",
        "x = MaxPooling2D((2, 2), padding='same')(x)\n",
        "\n",
        "# flatten\n",
        "x = Flatten()(x)\n",
        "\n",
        "# latent space\n",
        "x = Dense(10, activation='sigmoid')(x)\n",
        "x = BatchNormalization()(x)\n",
        "\n",
        "# decoder\n",
        "x = Dense(4 * 4 * filters[2], activation='relu')(x)\n",
        "x = Reshape((4, 4, filters[2]))(x)\n",
        "\n",
        "x = Conv2D(filters[2], conv_shape, activation='relu', padding='same')(x)\n",
        "x = UpSampling2D((2, 2))(x)\n",
        "\n",
        "x = Conv2D(filters[1], conv_shape, activation='relu', padding='same')(x)\n",
        "x = UpSampling2D((2, 2))(x)\n",
        "\n",
        "x = Conv2D(filters[0], conv_shape, activation='relu')(x)\n",
        "x = UpSampling2D((2, 2))(x)\n",
        "\n",
        "# output layer\n",
        "decoded = Conv2D(1, conv_shape, activation='sigmoid', padding='same')(x)\n",
        "\n",
        "# autoencoder model\n",
        "autoencoder = Model(input_img, decoded)\n",
        "autoencoder.compile(loss='mean_squared_error', optimizer=RMSprop())\n",
        "\n",
        "autoencoder.summary()\n",
        "\n"
      ]
    },
    {
      "cell_type": "code",
      "execution_count": 13,
      "metadata": {
        "colab": {
          "base_uri": "https://localhost:8080/"
        },
        "id": "n3CD2tP3IvSC",
        "outputId": "d558816b-ad27-47f3-c902-d5560d7ce78f"
      },
      "outputs": [
        {
          "output_type": "stream",
          "name": "stdout",
          "text": [
            "Epoch 1/12\n",
            "384/384 [==============================] - 234s 595ms/step - loss: 0.0535 - val_loss: 0.0573\n",
            "Epoch 2/12\n",
            "384/384 [==============================] - 227s 591ms/step - loss: 0.0329 - val_loss: 0.0279\n",
            "Epoch 3/12\n",
            "384/384 [==============================] - 233s 607ms/step - loss: 0.0275 - val_loss: 0.0260\n",
            "Epoch 4/12\n",
            "384/384 [==============================] - 228s 594ms/step - loss: 0.0251 - val_loss: 0.0227\n",
            "Epoch 5/12\n",
            "384/384 [==============================] - 229s 596ms/step - loss: 0.0234 - val_loss: 0.0234\n",
            "Epoch 6/12\n",
            "384/384 [==============================] - 228s 593ms/step - loss: 0.0224 - val_loss: 0.0222\n",
            "Epoch 7/12\n",
            "384/384 [==============================] - 236s 615ms/step - loss: 0.0216 - val_loss: 0.0222\n",
            "Epoch 8/12\n",
            "384/384 [==============================] - 292s 759ms/step - loss: 0.0209 - val_loss: 0.0199\n",
            "Epoch 9/12\n",
            "384/384 [==============================] - 245s 638ms/step - loss: 0.0203 - val_loss: 0.0185\n",
            "Epoch 10/12\n",
            "384/384 [==============================] - 233s 606ms/step - loss: 0.0200 - val_loss: 0.0185\n",
            "Epoch 11/12\n",
            "384/384 [==============================] - 238s 619ms/step - loss: 0.0196 - val_loss: 0.0187\n",
            "Epoch 12/12\n",
            "384/384 [==============================] - 226s 589ms/step - loss: 0.0193 - val_loss: 0.0180\n"
          ]
        }
      ],
      "source": [
        "autoencoder_train = autoencoder.fit(train_X, train_ground, batch_size=batch_size,epochs=epochs,verbose=1,validation_data=(valid_X, valid_ground))\n"
      ]
    },
    {
      "cell_type": "code",
      "execution_count": 14,
      "metadata": {
        "colab": {
          "base_uri": "https://localhost:8080/",
          "height": 452
        },
        "id": "RkisnQptIvSE",
        "outputId": "b06a52e2-866a-4c83-9de3-1f68b9d17e6e"
      },
      "outputs": [
        {
          "output_type": "display_data",
          "data": {
            "text/plain": [
              "<Figure size 640x480 with 1 Axes>"
            ],
            "image/png": "[encoded data removed]"
          },
          "metadata": {}
        }
      ],
      "source": [
        "loss = autoencoder_train.history['loss']\n",
        "val_loss = autoencoder_train.history['val_loss']\n",
        "epochs = range(epochs)\n",
        "plt.figure()\n",
        "plt.plot(epochs, loss, 'bo', label='Training loss')\n",
        "plt.plot(epochs, val_loss, 'b', label='Validation loss')\n",
        "plt.title('Training and validation loss')\n",
        "plt.legend()\n",
        "plt.show()"
      ]
    },
    {
      "cell_type": "code",
      "execution_count": 15,
      "metadata": {
        "colab": {
          "base_uri": "https://localhost:8080/"
        },
        "id": "wodSJJIOIvSE",
        "outputId": "01e8f10e-b14a-4c65-c6b6-3f6b84c3d397"
      },
      "outputs": [
        {
          "output_type": "stream",
          "name": "stdout",
          "text": [
            "313/313 [==============================] - 12s 36ms/step\n"
          ]
        }
      ],
      "source": [
        "pred = autoencoder.predict(_query)\n",
        "\n"
      ]
    },
    {
      "cell_type": "code",
      "execution_count": 16,
      "metadata": {
        "colab": {
          "base_uri": "https://localhost:8080/"
        },
        "id": "e_dfORLPIvSF",
        "outputId": "e2594eec-408a-4019-af93-cdf12d5361fb"
      },
      "outputs": [
        {
          "output_type": "execute_result",
          "data": {
            "text/plain": [
              "(10000, 28, 28, 1)"
            ]
          },
          "metadata": {},
          "execution_count": 16
        }
      ],
      "source": [
        "pred.shape\n",
        "\n"
      ]
    },
    {
      "cell_type": "code",
      "execution_count": 17,
      "metadata": {
        "colab": {
          "base_uri": "https://localhost:8080/",
          "height": 231
        },
        "id": "MYHwoyVTIvSG",
        "outputId": "5f41b5ca-ba56-4eb9-9be6-de2166f1f2d8"
      },
      "outputs": [
        {
          "output_type": "stream",
          "name": "stdout",
          "text": [
            "Test Images\n"
          ]
        },
        {
          "output_type": "display_data",
          "data": {
            "text/plain": [
              "<Figure size 2000x400 with 10 Axes>"
            ],
            "image/png": "[encoded data removed]"
          },
          "metadata": {}
        },
        {
          "output_type": "stream",
          "name": "stdout",
          "text": [
            "Reconstruction of Test Images\n"
          ]
        },
        {
          "output_type": "display_data",
          "data": {
            "text/plain": [
              "<Figure size 2000x400 with 10 Axes>"
            ],
            "image/png": "[encoded data removed]"
          },
          "metadata": {}
        }
      ],
      "source": [
        "plt.figure(figsize=(20, 4))\n",
        "print(\"Test Images\")\n",
        "for i in range(10):\n",
        "    plt.subplot(2, 10, i+1)\n",
        "    plt.imshow(_query[i, ..., 0], cmap='gray')\n",
        "plt.show()\n",
        "plt.figure(figsize=(20, 4))\n",
        "print(\"Reconstruction of Test Images\")\n",
        "for i in range(10):\n",
        "    plt.subplot(2, 10, i+1)\n",
        "    plt.imshow(pred[i, ..., 0], cmap='gray')\n",
        "plt.show()"
      ]
    },
    {
      "cell_type": "markdown",
      "source": [
        "# Create Output In Latent Space"
      ],
      "metadata": {
        "id": "Isn-1X8TMaWW"
      }
    },
    {
      "cell_type": "code",
      "execution_count": 18,
      "metadata": {
        "id": "es2xhUU-IvSH"
      },
      "outputs": [],
      "source": [
        "encoder_model = Model(inputs=autoencoder.input, outputs=autoencoder.get_layer('dense').output)\n"
      ]
    },
    {
      "cell_type": "code",
      "execution_count": 19,
      "metadata": {
        "colab": {
          "base_uri": "https://localhost:8080/"
        },
        "id": "Kvzz1FVpIvSI",
        "outputId": "9f366d3b-61af-4f23-cf3d-6cc36dbd655e"
      },
      "outputs": [
        {
          "output_type": "stream",
          "name": "stdout",
          "text": [
            "313/313 [==============================] - 6s 19ms/step\n"
          ]
        }
      ],
      "source": [
        "query_bottleneck_output = encoder_model.predict(_query)"
      ]
    },
    {
      "cell_type": "code",
      "execution_count": 20,
      "metadata": {
        "colab": {
          "base_uri": "https://localhost:8080/"
        },
        "id": "L9q_h3AyIvSI",
        "outputId": "b5ec3081-ea24-42f5-8c3f-3f6633d99422"
      },
      "outputs": [
        {
          "output_type": "execute_result",
          "data": {
            "text/plain": [
              "(10000, 10)"
            ]
          },
          "metadata": {},
          "execution_count": 20
        }
      ],
      "source": [
        "query_bottleneck_output.shape"
      ]
    },
    {
      "cell_type": "code",
      "execution_count": 21,
      "metadata": {
        "colab": {
          "base_uri": "https://localhost:8080/"
        },
        "id": "fMHQ8W63IvSJ",
        "outputId": "0f069833-e2a0-4c1b-e153-c8c016fbd28a"
      },
      "outputs": [
        {
          "output_type": "execute_result",
          "data": {
            "text/plain": [
              "array([191, 133, 137, 204, 143, 117, 139, 115, 113,  91])"
            ]
          },
          "metadata": {},
          "execution_count": 21
        }
      ],
      "source": [
        "query_bottleneck_output*=255\n",
        "query_bottleneck_output=query_bottleneck_output.astype(int)\n",
        "query_bottleneck_output[0]"
      ]
    },
    {
      "cell_type": "code",
      "execution_count": 22,
      "metadata": {
        "colab": {
          "base_uri": "https://localhost:8080/"
        },
        "id": "seH8OFppJpr0",
        "outputId": "d6148ef3-b4e0-471c-be91-330bd59c6ec3"
      },
      "outputs": [
        {
          "output_type": "stream",
          "name": "stdout",
          "text": [
            "1875/1875 [==============================] - 32s 17ms/step\n"
          ]
        }
      ],
      "source": [
        "data_bottleneck_output = encoder_model.predict(_data)"
      ]
    },
    {
      "cell_type": "code",
      "execution_count": 23,
      "metadata": {
        "colab": {
          "base_uri": "https://localhost:8080/"
        },
        "id": "bV1A1fElJpr1",
        "outputId": "37a0b86a-dcf0-4976-d0ff-50e60ccf66f1"
      },
      "outputs": [
        {
          "output_type": "execute_result",
          "data": {
            "text/plain": [
              "(60000, 10)"
            ]
          },
          "metadata": {},
          "execution_count": 23
        }
      ],
      "source": [
        "data_bottleneck_output.shape"
      ]
    },
    {
      "cell_type": "code",
      "execution_count": 24,
      "metadata": {
        "colab": {
          "base_uri": "https://localhost:8080/"
        },
        "id": "MMfIIz8mJpr1",
        "outputId": "82bd0768-e6d8-4281-9205-ee240a1062ef"
      },
      "outputs": [
        {
          "output_type": "execute_result",
          "data": {
            "text/plain": [
              "array([ 94,  67,  95, 153, 138, 131, 108,  46, 162,  98])"
            ]
          },
          "metadata": {},
          "execution_count": 24
        }
      ],
      "source": [
        "data_bottleneck_output*=255\n",
        "data_bottleneck_output=data_bottleneck_output.astype(int)\n",
        "data_bottleneck_output[0]"
      ]
    },
    {
      "cell_type": "code",
      "execution_count": 25,
      "metadata": {
        "colab": {
          "base_uri": "https://localhost:8080/"
        },
        "id": "xtMSfuifJ02Z",
        "outputId": "8a38bb90-431c-4001-f107-46a8ef9f7c8e"
      },
      "outputs": [
        {
          "output_type": "execute_result",
          "data": {
            "text/plain": [
              "array([ 94,  67,  95, 153, 138, 131, 108,  46, 162,  98])"
            ]
          },
          "metadata": {},
          "execution_count": 25
        }
      ],
      "source": [
        "data_bottleneck_output[0]"
      ]
    },
    {
      "cell_type": "code",
      "execution_count": 27,
      "metadata": {
        "id": "8bEiU6gOKtvv"
      },
      "outputs": [],
      "source": [
        "np.savetxt(output_dataset_file, data_bottleneck_output, delimiter=',', fmt='%d')\n",
        "np.savetxt(output_query_file, query_bottleneck_output, delimiter=',', fmt='%d')"
      ]
    }
  ],
  "metadata": {
    "colab": {
      "provenance": []
    },
    "kernelspec": {
      "display_name": "Python 3",
      "name": "python3"
    },
    "language_info": {
      "name": "python"
    }
  },
  "nbformat": 4,
  "nbformat_minor": 0
}