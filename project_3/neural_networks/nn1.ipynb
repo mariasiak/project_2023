{
  "cells": [
    {
      "cell_type": "markdown",
      "metadata": {
        "id": "6mPe0WQcN6yj"
      },
      "source": [
        "# Imports"
      ]
    },
    {
      "cell_type": "code",
      "execution_count": 1,
      "metadata": {
        "colab": {
          "base_uri": "https://localhost:8080/"
        },
        "id": "YEB3Ta13N6At",
        "outputId": "f0fc245c-6cb8-4008-e4e7-4a83a1aa17b1"
      },
      "outputs": [
        {
          "output_type": "stream",
          "name": "stdout",
          "text": [
            "Collecting idx2numpy\n",
            "  Downloading idx2numpy-1.2.3.tar.gz (6.8 kB)\n",
            "  Preparing metadata (setup.py) ... \u001b[?25l\u001b[?25hdone\n",
            "Requirement already satisfied: numpy in /usr/local/lib/python3.10/dist-packages (from idx2numpy) (1.23.5)\n",
            "Requirement already satisfied: six in /usr/local/lib/python3.10/dist-packages (from idx2numpy) (1.16.0)\n",
            "Building wheels for collected packages: idx2numpy\n",
            "  Building wheel for idx2numpy (setup.py) ... \u001b[?25l\u001b[?25hdone\n",
            "  Created wheel for idx2numpy: filename=idx2numpy-1.2.3-py3-none-any.whl size=7905 sha256=5115f40bea34ac364cf9026382c62e90aee8fef9052d3373d14e051af4905242\n",
            "  Stored in directory: /root/.cache/pip/wheels/e0/f4/e7/643fc5f932ec2ff92997f43f007660feb23f948aa8486f1107\n",
            "Successfully built idx2numpy\n",
            "Installing collected packages: idx2numpy\n",
            "Successfully installed idx2numpy-1.2.3\n"
          ]
        }
      ],
      "source": [
        "!pip install idx2numpy\n",
        "import numpy as np\n",
        "import pandas as pd\n",
        "import matplotlib.pyplot as plt\n",
        "\n",
        "import keras\n",
        "from keras.models import Model\n",
        "from keras.layers import Input, Conv2D, MaxPooling2D, UpSampling2D, Dense, Flatten, Reshape\n",
        "from keras.optimizers import RMSprop\n",
        "\n",
        "from sklearn.model_selection import train_test_split\n",
        "import idx2numpy"
      ]
    },
    {
      "cell_type": "markdown",
      "metadata": {
        "id": "j1yPV3JpXzme"
      },
      "source": [
        "# Data Read and Check"
      ]
    },
    {
      "cell_type": "code",
      "source": [
        "file_path = 'reduce.config'\n",
        "\n",
        "# extract variables from the file\n",
        "variables = {}\n",
        "\n",
        "file = open(file_path, 'r')\n",
        "\n",
        "for line in file:\n",
        "    key, value = line.strip().split(':')\n",
        "    variables[key.strip()] = value.strip()\n",
        "\n",
        "# access the values for the variables\n",
        "dataset = variables.get('dataset')\n",
        "queryset = variables.get('queryset')\n",
        "output_dataset_file = variables.get('output_dataset_file')\n",
        "output_query_file = variables.get('output_query_file')"
      ],
      "metadata": {
        "id": "zCdaMLM5OcF_"
      },
      "execution_count": 2,
      "outputs": []
    },
    {
      "cell_type": "code",
      "execution_count": 3,
      "metadata": {
        "colab": {
          "base_uri": "https://localhost:8080/",
          "height": 452
        },
        "outputId": "b97c81c1-351f-4d8c-e0c5-663128262144",
        "id": "xrnjMqpqXzme"
      },
      "outputs": [
        {
          "output_type": "display_data",
          "data": {
            "text/plain": [
              "<Figure size 640x480 with 1 Axes>"
            ],
            "image/png": "[encoded data removed]"
          },
          "metadata": {}
        }
      ],
      "source": [
        "# set data and query paths\n",
        "data_path = dataset\n",
        "query_path = queryset\n",
        "\n",
        "# load data and query from paths\n",
        "data = idx2numpy.convert_from_file(data_path)\n",
        "query = idx2numpy.convert_from_file(query_path)\n",
        "\n",
        "# display the reshaped image\n",
        "plt.imshow(data[120], cmap='gray')\n",
        "plt.title(\"Example Image\")\n",
        "plt.show()"
      ]
    },
    {
      "cell_type": "code",
      "execution_count": 4,
      "metadata": {
        "colab": {
          "base_uri": "https://localhost:8080/"
        },
        "outputId": "6c339fd7-13be-4948-b9b3-cac66a73a474",
        "id": "8FCQQ71DXzmf"
      },
      "outputs": [
        {
          "output_type": "stream",
          "name": "stdout",
          "text": [
            "Data set shape:  (60000, 28, 28)\n",
            "Query set shape:  (10000, 28, 28)\n"
          ]
        }
      ],
      "source": [
        "# shape of data set\n",
        "print(\"Data set shape: \",data.shape)\n",
        "\n",
        "# shape of query set\n",
        "print(\"Query set shape: \",query.shape)\n"
      ]
    },
    {
      "cell_type": "markdown",
      "metadata": {
        "id": "cM_XaGPHXzmf"
      },
      "source": [
        "# Data Preproccessing"
      ]
    },
    {
      "cell_type": "markdown",
      "metadata": {
        "id": "IV4sgCdeXzmf"
      },
      "source": [
        "Convert from 28x28 to 28x28x1"
      ]
    },
    {
      "cell_type": "code",
      "execution_count": 5,
      "metadata": {
        "id": "iyiT_qVoXzmf"
      },
      "outputs": [],
      "source": [
        "# underscored data and query hold the postproccessed data, and query sets\n",
        "_data = data.reshape(-1, 28,28, 1)\n",
        "_query = query.reshape(-1, 28,28, 1)"
      ]
    },
    {
      "cell_type": "code",
      "execution_count": 6,
      "metadata": {
        "colab": {
          "base_uri": "https://localhost:8080/"
        },
        "outputId": "c002d372-28b8-4502-b75f-b570a376ce22",
        "id": "q_I3NrVLXzmg"
      },
      "outputs": [
        {
          "output_type": "stream",
          "name": "stdout",
          "text": [
            "Data set shape:  (60000, 28, 28, 1)\n",
            "Query set shape:  (10000, 28, 28, 1)\n"
          ]
        }
      ],
      "source": [
        "# shape of data set\n",
        "print(\"Data set shape: \",_data.shape)\n",
        "\n",
        "# shape of query set\n",
        "print(\"Query set shape: \",_query.shape)"
      ]
    },
    {
      "cell_type": "markdown",
      "metadata": {
        "id": "kL6nWYOFXzmg"
      },
      "source": [
        "Change data type to float32"
      ]
    },
    {
      "cell_type": "code",
      "execution_count": 7,
      "metadata": {
        "colab": {
          "base_uri": "https://localhost:8080/"
        },
        "outputId": "0d7484dc-737e-4e74-f0d5-c8b5953e517b",
        "id": "izb8S9xVXzmg"
      },
      "outputs": [
        {
          "output_type": "execute_result",
          "data": {
            "text/plain": [
              "(dtype('float32'), dtype('float32'))"
            ]
          },
          "metadata": {},
          "execution_count": 7
        }
      ],
      "source": [
        "# change the data type of _data and _query to float32\n",
        "_data = _data.astype('float32')\n",
        "_query = _query.astype('float32')\n",
        "\n",
        "_data.dtype, _query.dtype"
      ]
    },
    {
      "cell_type": "markdown",
      "metadata": {
        "id": "cOYGyip-Xzmh"
      },
      "source": [
        "Rescale values from [0, 255] to [0.0, 1.0]"
      ]
    },
    {
      "cell_type": "code",
      "execution_count": 8,
      "metadata": {
        "colab": {
          "base_uri": "https://localhost:8080/"
        },
        "outputId": "7b05cca8-8538-4cd2-bf17-d90f82fc88b4",
        "id": "HHkBxlcwXzmh"
      },
      "outputs": [
        {
          "output_type": "execute_result",
          "data": {
            "text/plain": [
              "(255.0, 255.0)"
            ]
          },
          "metadata": {},
          "execution_count": 8
        }
      ],
      "source": [
        "np.max(_data), np.max(_query)"
      ]
    },
    {
      "cell_type": "code",
      "execution_count": 9,
      "metadata": {
        "id": "1mcdo8pCXzmh"
      },
      "outputs": [],
      "source": [
        "_data = _data / np.max(_data)\n",
        "_query = _query / np.max(_query)"
      ]
    },
    {
      "cell_type": "code",
      "execution_count": 10,
      "metadata": {
        "colab": {
          "base_uri": "https://localhost:8080/"
        },
        "outputId": "fa58a7c9-13a6-4989-8ac3-044266393672",
        "id": "dH0Tg3C0Xzmh"
      },
      "outputs": [
        {
          "output_type": "execute_result",
          "data": {
            "text/plain": [
              "(1.0, 1.0)"
            ]
          },
          "metadata": {},
          "execution_count": 10
        }
      ],
      "source": [
        "np.max(_data), np.max(_query)"
      ]
    },
    {
      "cell_type": "markdown",
      "metadata": {
        "id": "UO2DhJFMXzmi"
      },
      "source": [
        "Split the data into train, valid, ground"
      ]
    },
    {
      "cell_type": "code",
      "execution_count": 11,
      "metadata": {
        "id": "HSQLklIaXzmi"
      },
      "outputs": [],
      "source": [
        "train_X,valid_X,train_ground,valid_ground = train_test_split(_data,\n",
        "                                                             _data,\n",
        "                                                             test_size=0.181,\n",
        "                                                             random_state=333)"
      ]
    },
    {
      "cell_type": "markdown",
      "metadata": {
        "id": "-QF5tKDUXzmj"
      },
      "source": [
        "# Neural Network"
      ]
    },
    {
      "cell_type": "code",
      "execution_count": 12,
      "metadata": {
        "id": "Ml5OVW0uXzmj"
      },
      "outputs": [],
      "source": [
        "# hyperparameters\n",
        "batch_size = 128 # 128, 256, 512\n",
        "epochs = 10\n",
        "\n",
        "# create the input layer\n",
        "inChannel = 1\n",
        "x, y = 28, 28\n",
        "input_img = Input(shape = (x, y, inChannel))"
      ]
    },
    {
      "cell_type": "code",
      "execution_count": 13,
      "metadata": {
        "colab": {
          "base_uri": "https://localhost:8080/"
        },
        "outputId": "39619d1f-f287-4d62-c862-b3ddb2fba2bc",
        "id": "ZsisuJGjXzmj"
      },
      "outputs": [
        {
          "output_type": "stream",
          "name": "stdout",
          "text": [
            "Model: \"model\"\n",
            "_________________________________________________________________\n",
            " Layer (type)                Output Shape              Param #   \n",
            "=================================================================\n",
            " input_2 (InputLayer)        [(None, 28, 28, 1)]       0         \n",
            "                                                                 \n",
            " conv2d (Conv2D)             (None, 28, 28, 64)        640       \n",
            "                                                                 \n",
            " max_pooling2d (MaxPooling2  (None, 14, 14, 64)        0         \n",
            " D)                                                              \n",
            "                                                                 \n",
            " conv2d_1 (Conv2D)           (None, 14, 14, 32)        18464     \n",
            "                                                                 \n",
            " max_pooling2d_1 (MaxPoolin  (None, 7, 7, 32)          0         \n",
            " g2D)                                                            \n",
            "                                                                 \n",
            " conv2d_2 (Conv2D)           (None, 7, 7, 16)          4624      \n",
            "                                                                 \n",
            " max_pooling2d_2 (MaxPoolin  (None, 4, 4, 16)          0         \n",
            " g2D)                                                            \n",
            "                                                                 \n",
            " flatten (Flatten)           (None, 256)               0         \n",
            "                                                                 \n",
            " dense (Dense)               (None, 10)                2570      \n",
            "                                                                 \n",
            " dense_1 (Dense)             (None, 64)                704       \n",
            "                                                                 \n",
            " reshape (Reshape)           (None, 4, 4, 4)           0         \n",
            "                                                                 \n",
            " conv2d_3 (Conv2D)           (None, 4, 4, 16)          592       \n",
            "                                                                 \n",
            " up_sampling2d (UpSampling2  (None, 8, 8, 16)          0         \n",
            " D)                                                              \n",
            "                                                                 \n",
            " conv2d_4 (Conv2D)           (None, 8, 8, 32)          4640      \n",
            "                                                                 \n",
            " up_sampling2d_1 (UpSamplin  (None, 16, 16, 32)        0         \n",
            " g2D)                                                            \n",
            "                                                                 \n",
            " conv2d_5 (Conv2D)           (None, 14, 14, 64)        18496     \n",
            "                                                                 \n",
            " up_sampling2d_2 (UpSamplin  (None, 28, 28, 64)        0         \n",
            " g2D)                                                            \n",
            "                                                                 \n",
            " conv2d_6 (Conv2D)           (None, 28, 28, 1)         577       \n",
            "                                                                 \n",
            "=================================================================\n",
            "Total params: 51307 (200.42 KB)\n",
            "Trainable params: 51307 (200.42 KB)\n",
            "Non-trainable params: 0 (0.00 Byte)\n",
            "_________________________________________________________________\n"
          ]
        }
      ],
      "source": [
        "input_img = Input(shape = (x, y, inChannel))\n",
        "\n",
        "conv_shape = (3, 3)\n",
        "filters=(64,32,16)\n",
        "\n",
        "x = Conv2D(filters[0], conv_shape, activation='relu', padding='same')(input_img)\n",
        "x = MaxPooling2D((2, 2), padding='same')(x)\n",
        "x = Conv2D(filters[1], conv_shape, activation='relu', padding='same')(x)\n",
        "x = MaxPooling2D((2, 2), padding='same')(x)\n",
        "x = Conv2D(filters[2], conv_shape, activation='relu', padding='same')(x)\n",
        "x = MaxPooling2D((2, 2), padding='same')(x)\n",
        "\n",
        "# flatten to prepare for the dense layer\n",
        "x = Flatten()(x)\n",
        "\n",
        "# latent space\n",
        "latent = Dense(10, activation='sigmoid')(x)\n",
        "\n",
        "# decoder\n",
        "x = Dense(4 * 4 * 4, activation='relu')(latent)\n",
        "x = Reshape((4, 4, 4))(x)\n",
        "\n",
        "x = Conv2D(filters[2], conv_shape, activation='relu', padding='same')(x)\n",
        "x = UpSampling2D((2, 2))(x)\n",
        "x = Conv2D(filters[1], conv_shape, activation='relu', padding='same')(x)\n",
        "x = UpSampling2D((2, 2))(x)\n",
        "x = Conv2D(filters[0], conv_shape, activation='relu')(x)\n",
        "x = UpSampling2D((2, 2))(x)\n",
        "# output layer\n",
        "decoded = Conv2D(1, conv_shape, activation='sigmoid', padding='same')(x)\n",
        "\n",
        "# autoencoder model\n",
        "autoencoder = Model(input_img, decoded)\n",
        "autoencoder.compile(loss='mean_squared_error', optimizer = RMSprop())\n",
        "\n",
        "autoencoder.summary()"
      ]
    },
    {
      "cell_type": "code",
      "execution_count": 14,
      "metadata": {
        "colab": {
          "base_uri": "https://localhost:8080/"
        },
        "outputId": "8b8128c0-b198-49d9-8332-4cb4cdc0ec44",
        "id": "YVemWlsQXzmk"
      },
      "outputs": [
        {
          "output_type": "stream",
          "name": "stdout",
          "text": [
            "Epoch 1/10\n",
            "384/384 [==============================] - 185s 477ms/step - loss: 0.0690 - val_loss: 0.0589\n",
            "Epoch 2/10\n",
            "384/384 [==============================] - 182s 475ms/step - loss: 0.0503 - val_loss: 0.0438\n",
            "Epoch 3/10\n",
            "384/384 [==============================] - 187s 488ms/step - loss: 0.0409 - val_loss: 0.0393\n",
            "Epoch 4/10\n",
            "384/384 [==============================] - 184s 479ms/step - loss: 0.0364 - val_loss: 0.0355\n",
            "Epoch 5/10\n",
            "384/384 [==============================] - 185s 481ms/step - loss: 0.0335 - val_loss: 0.0344\n",
            "Epoch 6/10\n",
            "384/384 [==============================] - 186s 484ms/step - loss: 0.0315 - val_loss: 0.0291\n",
            "Epoch 7/10\n",
            "384/384 [==============================] - 185s 483ms/step - loss: 0.0298 - val_loss: 0.0284\n",
            "Epoch 8/10\n",
            "384/384 [==============================] - 186s 484ms/step - loss: 0.0284 - val_loss: 0.0281\n",
            "Epoch 9/10\n",
            "384/384 [==============================] - 191s 499ms/step - loss: 0.0274 - val_loss: 0.0269\n",
            "Epoch 10/10\n",
            "384/384 [==============================] - 191s 497ms/step - loss: 0.0265 - val_loss: 0.0271\n"
          ]
        }
      ],
      "source": [
        "autoencoder_train = autoencoder.fit(train_X, train_ground, batch_size=batch_size,epochs=epochs,verbose=1,validation_data=(valid_X, valid_ground))\n"
      ]
    },
    {
      "cell_type": "code",
      "execution_count": 15,
      "metadata": {
        "colab": {
          "base_uri": "https://localhost:8080/",
          "height": 452
        },
        "outputId": "dcdf564d-cd97-406d-fdf6-34baf7d963e8",
        "id": "l6vD9gwdXzmk"
      },
      "outputs": [
        {
          "output_type": "display_data",
          "data": {
            "text/plain": [
              "<Figure size 640x480 with 1 Axes>"
            ],
            "image/png": "[encoded data removed]"
          },
          "metadata": {}
        }
      ],
      "source": [
        "loss = autoencoder_train.history['loss']\n",
        "val_loss = autoencoder_train.history['val_loss']\n",
        "epochs = range(epochs)\n",
        "plt.figure()\n",
        "plt.plot(epochs, loss, 'bo', label='Training loss')\n",
        "plt.plot(epochs, val_loss, 'b', label='Validation loss')\n",
        "plt.title('Training and validation loss')\n",
        "plt.legend()\n",
        "plt.show()"
      ]
    },
    {
      "cell_type": "code",
      "execution_count": 16,
      "metadata": {
        "colab": {
          "base_uri": "https://localhost:8080/"
        },
        "outputId": "d7ad6c75-a3cc-442b-e109-0aee025712e9",
        "id": "m3y94lIjXzmk"
      },
      "outputs": [
        {
          "output_type": "stream",
          "name": "stdout",
          "text": [
            "313/313 [==============================] - 8s 26ms/step\n"
          ]
        }
      ],
      "source": [
        "pred = autoencoder.predict(_query)\n",
        "\n"
      ]
    },
    {
      "cell_type": "code",
      "execution_count": 17,
      "metadata": {
        "colab": {
          "base_uri": "https://localhost:8080/"
        },
        "outputId": "1cf54337-ce34-43e9-f542-d689f0559486",
        "id": "QrlNAOgKXzml"
      },
      "outputs": [
        {
          "output_type": "execute_result",
          "data": {
            "text/plain": [
              "(10000, 28, 28, 1)"
            ]
          },
          "metadata": {},
          "execution_count": 17
        }
      ],
      "source": [
        "pred.shape\n",
        "\n"
      ]
    },
    {
      "cell_type": "code",
      "execution_count": 18,
      "metadata": {
        "colab": {
          "base_uri": "https://localhost:8080/",
          "height": 231
        },
        "outputId": "c0da837e-19f1-4379-b99d-7301d0c66fe6",
        "id": "BhNq8JSXXzml"
      },
      "outputs": [
        {
          "output_type": "stream",
          "name": "stdout",
          "text": [
            "Test Images\n"
          ]
        },
        {
          "output_type": "display_data",
          "data": {
            "text/plain": [
              "<Figure size 2000x400 with 10 Axes>"
            ],
            "image/png": "[encoded data removed]"
          },
          "metadata": {}
        },
        {
          "output_type": "stream",
          "name": "stdout",
          "text": [
            "Reconstruction of Test Images\n"
          ]
        },
        {
          "output_type": "display_data",
          "data": {
            "text/plain": [
              "<Figure size 2000x400 with 10 Axes>"
            ],
            "image/png": "[encoded data removed]"
          },
          "metadata": {}
        }
      ],
      "source": [
        "plt.figure(figsize=(20, 4))\n",
        "print(\"Test Images\")\n",
        "for i in range(10):\n",
        "    plt.subplot(2, 10, i+1)\n",
        "    plt.imshow(_query[i, ..., 0], cmap='gray')\n",
        "plt.show()\n",
        "plt.figure(figsize=(20, 4))\n",
        "print(\"Reconstruction of Test Images\")\n",
        "for i in range(10):\n",
        "    plt.subplot(2, 10, i+1)\n",
        "    plt.imshow(pred[i, ..., 0], cmap='gray')\n",
        "plt.show()"
      ]
    },
    {
      "cell_type": "markdown",
      "source": [
        "# Create Output In Latent Space"
      ],
      "metadata": {
        "id": "hhNTYku6MD0B"
      }
    },
    {
      "cell_type": "code",
      "execution_count": 19,
      "metadata": {
        "id": "4yqVnvypXzml"
      },
      "outputs": [],
      "source": [
        "encoder_model = Model(inputs=autoencoder.input, outputs=autoencoder.get_layer('dense').output)\n"
      ]
    },
    {
      "cell_type": "code",
      "execution_count": 20,
      "metadata": {
        "colab": {
          "base_uri": "https://localhost:8080/"
        },
        "outputId": "6ddf6d65-2e7e-4863-d591-c9d2ac0cba60",
        "id": "Rtftc0oWXzmm"
      },
      "outputs": [
        {
          "output_type": "stream",
          "name": "stdout",
          "text": [
            "313/313 [==============================] - 6s 19ms/step\n"
          ]
        }
      ],
      "source": [
        "query_bottleneck_output = encoder_model.predict(_query)"
      ]
    },
    {
      "cell_type": "code",
      "execution_count": 21,
      "metadata": {
        "colab": {
          "base_uri": "https://localhost:8080/"
        },
        "outputId": "3d264a70-40ae-48f7-b833-78d5c36f1b95",
        "id": "iVfY6ozCXzmm"
      },
      "outputs": [
        {
          "output_type": "execute_result",
          "data": {
            "text/plain": [
              "(10000, 10)"
            ]
          },
          "metadata": {},
          "execution_count": 21
        }
      ],
      "source": [
        "query_bottleneck_output.shape"
      ]
    },
    {
      "cell_type": "code",
      "execution_count": 22,
      "metadata": {
        "colab": {
          "base_uri": "https://localhost:8080/"
        },
        "outputId": "265acad9-b230-4352-d53d-2fef1d65cc5e",
        "id": "WodRbh6ZXzmn"
      },
      "outputs": [
        {
          "output_type": "execute_result",
          "data": {
            "text/plain": [
              "array([151, 228,  74, 133,  64, 133, 197, 196, 114,  77])"
            ]
          },
          "metadata": {},
          "execution_count": 22
        }
      ],
      "source": [
        "query_bottleneck_output*=255\n",
        "query_bottleneck_output=query_bottleneck_output.astype(int)\n",
        "query_bottleneck_output[0]"
      ]
    },
    {
      "cell_type": "code",
      "execution_count": 23,
      "metadata": {
        "colab": {
          "base_uri": "https://localhost:8080/"
        },
        "outputId": "ccf9f66e-f9be-4b76-fe65-96b83b19d864",
        "id": "5O9uoYnlXzmn"
      },
      "outputs": [
        {
          "output_type": "stream",
          "name": "stdout",
          "text": [
            "1875/1875 [==============================] - 27s 14ms/step\n"
          ]
        }
      ],
      "source": [
        "data_bottleneck_output = encoder_model.predict(_data)"
      ]
    },
    {
      "cell_type": "code",
      "execution_count": 24,
      "metadata": {
        "colab": {
          "base_uri": "https://localhost:8080/"
        },
        "outputId": "bd35c7c0-6f41-45d7-e373-87f21e2a4b39",
        "id": "ldZubWxwXzmn"
      },
      "outputs": [
        {
          "output_type": "execute_result",
          "data": {
            "text/plain": [
              "(60000, 10)"
            ]
          },
          "metadata": {},
          "execution_count": 24
        }
      ],
      "source": [
        "data_bottleneck_output.shape"
      ]
    },
    {
      "cell_type": "code",
      "execution_count": 25,
      "metadata": {
        "colab": {
          "base_uri": "https://localhost:8080/"
        },
        "outputId": "35d0e319-5e0a-4e13-935a-84fe90f8e470",
        "id": "1hSiRXXbXzmo"
      },
      "outputs": [
        {
          "output_type": "execute_result",
          "data": {
            "text/plain": [
              "array([ 65, 179, 170, 152,  81,  53, 161,  38, 165, 132])"
            ]
          },
          "metadata": {},
          "execution_count": 25
        }
      ],
      "source": [
        "data_bottleneck_output*=255\n",
        "data_bottleneck_output=data_bottleneck_output.astype(int)\n",
        "data_bottleneck_output[0]"
      ]
    },
    {
      "cell_type": "code",
      "source": [
        "data_bottleneck_output[0]"
      ],
      "metadata": {
        "colab": {
          "base_uri": "https://localhost:8080/"
        },
        "outputId": "738aeb7a-0d2d-45b8-c6ed-dcc4a7d48518",
        "id": "RBznilXrXzmo"
      },
      "execution_count": 26,
      "outputs": [
        {
          "output_type": "execute_result",
          "data": {
            "text/plain": [
              "array([ 65, 179, 170, 152,  81,  53, 161,  38, 165, 132])"
            ]
          },
          "metadata": {},
          "execution_count": 26
        }
      ]
    },
    {
      "cell_type": "code",
      "source": [
        "np.savetxt(output_dataset_file, data_bottleneck_output, delimiter=',', fmt='%d')\n",
        "np.savetxt(output_query_file, query_bottleneck_output, delimiter=',', fmt='%d')\n"
      ],
      "metadata": {
        "id": "0_P82zdvXzmo"
      },
      "execution_count": 27,
      "outputs": []
    }
  ],
  "metadata": {
    "colab": {
      "provenance": []
    },
    "kernelspec": {
      "display_name": "Python 3",
      "name": "python3"
    },
    "language_info": {
      "name": "python"
    }
  },
  "nbformat": 4,
  "nbformat_minor": 0
}